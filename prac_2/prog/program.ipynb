{
 "cells": [
  {
   "cell_type": "code",
   "execution_count": 32,
   "metadata": {},
   "outputs": [
    {
     "name": "stderr",
     "output_type": "stream",
     "text": [
      "WARNING: replacing module gauss.\n",
      "WARNING: replacing module householder.\n"
     ]
    },
    {
     "data": {
      "text/plain": [
       "64"
      ]
     },
     "metadata": {},
     "output_type": "display_data"
    }
   ],
   "source": [
    "include(\"./program.jl\")"
   ]
  },
  {
   "cell_type": "markdown",
   "metadata": {},
   "source": [
    "Metoda Gauss'a"
   ]
  },
  {
   "cell_type": "markdown",
   "metadata": {},
   "source": [
    "najpierw wygenerujmy układ równań z rozwiązaniem w sposób następujący, losujemy A oraz x i ustawiamy b = Ax. Realizuje to w kodzie funkcja gen_test"
   ]
  },
  {
   "cell_type": "code",
   "execution_count": 45,
   "metadata": {},
   "outputs": [
    {
     "data": {
      "text/plain": [
       "(BigFloat[0.627717840537336233626 0.828746831470018926818 0.839064796507991198047 0.643046831678099063169; 0.456156891782911019968 0.346993672051645571407 0.910778885090472867551 0.652831963413619815084; 0.277600777234699769172 0.470917804331379838347 0.132247934501637872285 0.748156152944678020885; 0.24633871700023288328 0.629262751112260299263 0.746453618201771803642 0.492966193456579351644], BigFloat[9.74575155549345749362, 9.21429981819784473494, 7.40811238586311716046, 7.30503058737067628974], [2 1 3 8])"
      ]
     },
     "metadata": {},
     "output_type": "display_data"
    }
   ],
   "source": [
    "A, b, x = gen_test(4, [2 1 3 8])"
   ]
  },
  {
   "cell_type": "markdown",
   "metadata": {},
   "source": [
    "Najpierw sprowadzamy macierz do postaci górnotrójkątnej"
   ]
  },
  {
   "cell_type": "code",
   "execution_count": 34,
   "metadata": {},
   "outputs": [
    {
     "data": {
      "text/plain": [
       "4×4 Matrix{BigFloat}:\n",
       " 0.535584  0.540757   0.578987  0.509159\n",
       " 0.0       0.228257  -0.334455  0.405613\n",
       " 0.0       0.0       -1.43728   1.40784\n",
       " 0.0       0.0        0.0       0.011646"
      ]
     },
     "metadata": {},
     "output_type": "display_data"
    }
   ],
   "source": [
    "At = gauss.gauss_elimination(A, 4)"
   ]
  },
  {
   "cell_type": "markdown",
   "metadata": {},
   "source": [
    "i potem wykorzystujemy postać górnotrójkątna i back_substitution by rozwiązać układ równań"
   ]
  },
  {
   "cell_type": "code",
   "execution_count": 35,
   "metadata": {},
   "outputs": [
    {
     "data": {
      "text/plain": [
       "4-element Vector{BigFloat}:\n",
       " -918.260325380000636541\n",
       " -158.825169072559534714\n",
       "  528.568870837883852953\n",
       "  547.116768241670327233"
      ]
     },
     "metadata": {},
     "output_type": "display_data"
    }
   ],
   "source": [
    "solutions = gauss.calc_gauss(At, b)"
   ]
  },
  {
   "cell_type": "markdown",
   "metadata": {},
   "source": [
    "liczbę dokładnych cyfr wyniku wyliczamy przy pomocy funkcji calc_error"
   ]
  },
  {
   "cell_type": "code",
   "execution_count": 36,
   "metadata": {},
   "outputs": [
    {
     "data": {
      "text/plain": [
       "38.1294832240864828565"
      ]
     },
     "metadata": {},
     "output_type": "display_data"
    }
   ],
   "source": [
    "calc_error(A, b, solutions)"
   ]
  },
  {
   "cell_type": "markdown",
   "metadata": {},
   "source": [
    "Metoda Householder'a:\n",
    "Najpierw wygenerujemy macierz oraz dokonajmy jej rozkładu"
   ]
  },
  {
   "cell_type": "code",
   "execution_count": 37,
   "metadata": {},
   "outputs": [
    {
     "data": {
      "text/plain": [
       "(BigFloat[-0.352506913755581405018 -0.180802601708343197481 0.187061509494046194851 0.898920066877927790986; -0.735713605604332344619 -0.181042631152138068398 0.493115281501967720184 -0.427535232914690830578; -0.540725709649633957 -0.00254397226940853657959 -0.84035074554157593329 -0.0376810243585512392376; -0.205134280916398190831 0.966709632271292505681 0.125123679944131654848 0.0879572531634154568931], BigFloat[-1.35408066581416197021 -1.21059307499080504261 -0.733452289824964820148 -1.38770052903509981792; 0.0 0.190497816776457561038 0.677756152577346045597 0.298305697679736760565; 0.0 0.0 -0.713295156754184051981 -0.264733081297048031033; 0.0 0.0 0.0 0.542214408385795363244])"
      ]
     },
     "metadata": {},
     "output_type": "display_data"
    }
   ],
   "source": [
    "A,b,x = gen_test(4,rand(BigFloat, 4))\n",
    "Q,R = householder.qrfact(A)"
   ]
  },
  {
   "cell_type": "markdown",
   "metadata": {},
   "source": [
    "Teraz możemy sprawdzić czy rozkład ten spełnia własności, "
   ]
  },
  {
   "cell_type": "code",
   "execution_count": 38,
   "metadata": {},
   "outputs": [
    {
     "data": {
      "text/plain": [
       "41.2303756155332431256"
      ]
     },
     "metadata": {},
     "output_type": "display_data"
    }
   ],
   "source": [
    "calc_house_err1(A)\n"
   ]
  },
  {
   "cell_type": "code",
   "execution_count": 39,
   "metadata": {},
   "outputs": [
    {
     "data": {
      "text/plain": [
       "41.7155087028489807641"
      ]
     },
     "metadata": {},
     "output_type": "display_data"
    }
   ],
   "source": [
    "calc_house_err2(A)\n"
   ]
  },
  {
   "cell_type": "code",
   "execution_count": 40,
   "metadata": {},
   "outputs": [
    {
     "data": {
      "text/plain": [
       "42.4057206508193859605"
      ]
     },
     "metadata": {},
     "output_type": "display_data"
    }
   ],
   "source": [
    "calc_house_err3(A)\n"
   ]
  },
  {
   "cell_type": "code",
   "execution_count": 41,
   "metadata": {},
   "outputs": [
    {
     "data": {
      "text/plain": [
       "41.1156785697578151598"
      ]
     },
     "metadata": {},
     "output_type": "display_data"
    }
   ],
   "source": [
    "calc_house_err4(A)"
   ]
  },
  {
   "cell_type": "markdown",
   "metadata": {},
   "source": [
    "Tego rozkładu można użyć także do rozwiązania układu równań"
   ]
  },
  {
   "cell_type": "code",
   "execution_count": 42,
   "metadata": {},
   "outputs": [
    {
     "data": {
      "text/plain": [
       "4-element Vector{BigFloat}:\n",
       " 0.192806247449751952958\n",
       " 0.12904961020734743162\n",
       " 0.996093107755081473922\n",
       " 0.514616875902820138946"
      ]
     },
     "metadata": {},
     "output_type": "display_data"
    }
   ],
   "source": [
    "solutions = householder.calc_householder(A, b)"
   ]
  },
  {
   "cell_type": "markdown",
   "metadata": {},
   "source": [
    "Liczba cyfr dokładnych takiego wyniku wynosi"
   ]
  },
  {
   "cell_type": "code",
   "execution_count": 44,
   "metadata": {},
   "outputs": [
    {
     "data": {
      "text/plain": [
       "42.7723926406625269935"
      ]
     },
     "metadata": {},
     "output_type": "display_data"
    }
   ],
   "source": [
    "calc_error(A, b, solutions)"
   ]
  },
  {
   "cell_type": "markdown",
   "metadata": {},
   "source": [
    "Instrukcja obsługi programu:\n",
    "należy odpalić REPLa, juli\n",
    "wywołać komende 'include(\"./program.jl\")'\n",
    "i potem używać metod opisanych w tym dokumencie"
   ]
  },
  {
   "cell_type": "markdown",
   "metadata": {},
   "source": [
    "Poniżej są rozpisane komendy generujące dane do raportu"
   ]
  },
  {
   "cell_type": "code",
   "execution_count": 47,
   "metadata": {},
   "outputs": [
    {
     "data": {
      "text/plain": [
       "gen_data (generic function with 1 method)"
      ]
     },
     "metadata": {},
     "output_type": "display_data"
    }
   ],
   "source": [
    "function gen_data(size, precision)\n",
    "    setprecision(precision)\n",
    "    A,b,x = gen_test(size,rand(BigFloat,size))\n",
    "    print(calc_house_err1(A))\n",
    "    print(calc_house_err2(A))\n",
    "    print(calc_house_err3(A))\n",
    "    print(calc_house_err4(A))\n",
    "    hx = householder.calc_householder(A,b)\n",
    "    print(calc_error(A, b, hx))\n",
    "    gx = gauss.calc_gauss(A,b)\n",
    "    print(calc_error(A, b, hx))\n",
    "end\n",
    "\n",
    "\n",
    "\n"
   ]
  },
  {
   "cell_type": "markdown",
   "metadata": {},
   "source": []
  }
 ],
 "metadata": {
  "kernelspec": {
   "display_name": "Julia 1.8.2",
   "language": "julia",
   "name": "julia-1.8"
  },
  "language_info": {
   "file_extension": ".jl",
   "mimetype": "application/julia",
   "name": "julia",
   "version": "1.8.3"
  }
 },
 "nbformat": 4,
 "nbformat_minor": 2
}
