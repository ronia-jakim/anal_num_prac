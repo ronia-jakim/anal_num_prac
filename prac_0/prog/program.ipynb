{
 "cells": [
  {
   "cell_type": "markdown",
   "metadata": {},
   "source": [
    "Program wywołujemy poleceniem\n",
    "    julia program.jl\n",
    "Wyniki z tabeli dokumentu pdf są wypisywane na standardowe wyjście w postaci list, natomiast wykresy są zapisywane w tym samym folderze co programjl jako \"err_plot.png\" oraz \"val_plot.png\"."
   ]
  },
  {
   "cell_type": "code",
   "execution_count": null,
   "metadata": {},
   "outputs": [],
   "source": [
    "include(\"./program.jl\")"
   ]
  },
  {
   "cell_type": "markdown",
   "metadata": {},
   "source": [
    "W sprawozdaniu przybliżamy wartość logarytmu naturalnego w punkcie 0.5, przy pomocy szeregu taylora. Wyliczamy to w funkcji approx_ln, która przyjmuje jako argumenty: stopień wielomianu oraz punkt dla którego należy wyliczyć wartość"
   ]
  },
  {
   "cell_type": "code",
   "execution_count": null,
   "metadata": {},
   "outputs": [],
   "source": [
    "program.approx_ln(0.2, 17)"
   ]
  },
  {
   "cell_type": "markdown",
   "metadata": {},
   "source": [
    "Poniżej jest przedstawiony wykres pokazujący wartości wbudowanej funkcji bibliotecznej log, oraz funkcji approx_ln dla kolejnych stopni wielomianu. Wartość była liczona dla punktu 0.5."
   ]
  },
  {
   "cell_type": "code",
   "execution_count": null,
   "metadata": {},
   "outputs": [],
   "source": [
    "program.calc_val_deg(16, log(0.5), 0.5)"
   ]
  },
  {
   "cell_type": "markdown",
   "metadata": {},
   "source": [
    "Następnie wyliczamy błędy względne i bezwględne funkcją calc_err_deg"
   ]
  },
  {
   "cell_type": "code",
   "execution_count": null,
   "metadata": {},
   "outputs": [],
   "source": [
    "program.calc_err_deg(16, log(0.5), 0.5)"
   ]
  },
  {
   "cell_type": "markdown",
   "metadata": {},
   "source": [
    "Z wykresów widać że, wraz z wrostem stopnia wielomianu, wartość funkcji approx_ln zbliża się do wartości funkcji bibliotecznej log"
   ]
  },
  {
   "cell_type": "markdown",
   "metadata": {},
   "source": []
  },
  {
   "cell_type": "code",
   "execution_count": null,
   "metadata": {},
   "outputs": [],
   "source": [
    "program.show_error_deg_table(16, log(0.5), 0.5)\n"
   ]
  },
  {
   "cell_type": "code",
   "execution_count": null,
   "metadata": {},
   "outputs": [],
   "source": [
    "program.print_rel_err_log_graph(40, 0.5)"
   ]
  },
  {
   "cell_type": "code",
   "execution_count": null,
   "metadata": {},
   "outputs": [],
   "source": []
  }
 ],
 "metadata": {
  "kernelspec": {
   "display_name": "Julia 1.8.2",
   "language": "julia",
   "name": "julia-1.8"
  },
  "language_info": {
   "file_extension": ".jl",
   "mimetype": "application/julia",
   "name": "julia",
   "version": "1.8.2"
  },
  "vscode": {
   "interpreter": {
    "hash": "e7370f93d1d0cde622a1f8e1c04877d8463912d04d973331ad4851f04de6915a"
   }
  }
 },
 "nbformat": 4,
 "nbformat_minor": 2
}
